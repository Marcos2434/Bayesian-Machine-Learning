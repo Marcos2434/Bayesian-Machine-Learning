{
 "cells": [
  {
   "cell_type": "code",
   "execution_count": 1,
   "id": "01181335",
   "metadata": {},
   "outputs": [],
   "source": [
    "import pandas as pd\n",
    "import numpy as np\n",
    "import jax.numpy as jnp\n",
    "import jax\n",
    "import jax.scipy as jsp\n",
    "import jax.scipy.linalg as linalg\n",
    "import matplotlib.pyplot as plt\n",
    "from jax import jit, vmap\n",
    "from jax.scipy.special import logsumexp\n",
    "from jax import random\n",
    "\n",
    "# distributions\n",
    "from scipy.stats import norm\n",
    "from scipy.stats import multivariate_normal as mvn\n",
    "from scipy.stats import poisson\n"
   ]
  },
  {
   "cell_type": "code",
   "execution_count": 2,
   "id": "122bb218",
   "metadata": {},
   "outputs": [],
   "source": [
    "# Loading data\n",
    "data = jnp.load(\"./data_assignment3.npz\")\n",
    "x, y = data[\"x\"], data[\"t\"]"
   ]
  }
 ],
 "metadata": {
  "kernelspec": {
   "display_name": "Python 3",
   "language": "python",
   "name": "python3"
  },
  "language_info": {
   "codemirror_mode": {
    "name": "ipython",
    "version": 3
   },
   "file_extension": ".py",
   "mimetype": "text/x-python",
   "name": "python",
   "nbconvert_exporter": "python",
   "pygments_lexer": "ipython3",
   "version": "3.12.7"
  }
 },
 "nbformat": 4,
 "nbformat_minor": 5
}
